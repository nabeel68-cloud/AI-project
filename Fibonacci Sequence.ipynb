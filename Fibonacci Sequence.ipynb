#!/usr/bin/env python
# coding: utf-8

# In[ ]:


def fib(n):
    if n <= 0:
        return 0
    elif n == 1:
        return 1
    else:
        return fib(n - 1) + fib(n - 2)
terms = int(input("number of Fibonacci terms: "))

print("Fibonacci sequence:")
for i in range(terms):
    print(fib(i), end=' ')

