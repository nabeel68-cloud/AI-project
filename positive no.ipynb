{
 "cells": [
  {
   "cell_type": "code",
   "execution_count": 1,
   "id": "597c2963",
   "metadata": {},
   "outputs": [
    {
     "name": "stdout",
     "output_type": "stream",
     "text": [
      "Enter numbers: 2 -3 -4 5 6 7 -8\n",
      "Positive numbers:\n",
      "2\n",
      "5\n",
      "6\n",
      "7\n"
     ]
    }
   ],
   "source": [
    "num_inp = input(\"Enter numbers: \")\n",
    "num_list = [int(num) for num in num_inp.split()]\n",
    "\n",
    "print(\"Positive numbers:\")\n",
    "for i in num_list:\n",
    "    if i >= 0:  \n",
    "        print(i)"
   ]
  },
  {
   "cell_type": "code",
   "execution_count": null,
   "id": "8bbf8e61",
   "metadata": {},
   "outputs": [],
   "source": []
  }
 ],
 "metadata": {
  "kernelspec": {
   "display_name": "Python 3 (ipykernel)",
   "language": "python",
   "name": "python3"
  },
  "language_info": {
   "codemirror_mode": {
    "name": "ipython",
    "version": 3
   },
   "file_extension": ".py",
   "mimetype": "text/x-python",
   "name": "python",
   "nbconvert_exporter": "python",
   "pygments_lexer": "ipython3",
   "version": "3.10.9"
  }
 },
 "nbformat": 4,
 "nbformat_minor": 5
}
