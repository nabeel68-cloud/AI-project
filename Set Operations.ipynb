{
 "cells": [
  {
   "cell_type": "code",
   "execution_count": 1,
   "id": "63c74cc5",
   "metadata": {},
   "outputs": [
    {
     "name": "stdout",
     "output_type": "stream",
     "text": [
      "Union of E and N is {0, 1, 2, 3, 4, 5, 6, 8}\n",
      "Intersection of E and N is {2, 4}\n",
      "Difference of E and N is  {0, 8, 6}\n",
      "Symmetric difference of E and N is {0, 1, 3, 5, 6, 8}\n"
     ]
    }
   ],
   "source": [
    "E = {0, 2, 4, 6, 8}\n",
    "N = {1, 2, 3, 4, 5}\n",
    "union = E | N\n",
    "inter = E & N\n",
    "diff = E - N\n",
    "sym_diff = E ^ N\n",
    "print(\"Union of E and N is\",union)\n",
    "print(\"Intersection of E and N is\",inter)\n",
    "print(\"Difference of E and N is \",diff)\n",
    "print(\"Symmetric difference of E and N is\",sym_diff)"
   ]
  },
  {
   "cell_type": "code",
   "execution_count": null,
   "id": "cccb26a4",
   "metadata": {},
   "outputs": [],
   "source": []
  }
 ],
 "metadata": {
  "kernelspec": {
   "display_name": "Python 3 (ipykernel)",
   "language": "python",
   "name": "python3"
  },
  "language_info": {
   "codemirror_mode": {
    "name": "ipython",
    "version": 3
   },
   "file_extension": ".py",
   "mimetype": "text/x-python",
   "name": "python",
   "nbconvert_exporter": "python",
   "pygments_lexer": "ipython3",
   "version": "3.10.9"
  }
 },
 "nbformat": 4,
 "nbformat_minor": 5
}
